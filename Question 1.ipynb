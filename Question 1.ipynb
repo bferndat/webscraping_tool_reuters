{
 "cells": [
  {
   "cell_type": "code",
   "execution_count": 2,
   "metadata": {},
   "outputs": [],
   "source": [
    "import requests\n",
    "from bs4 import BeautifulSoup\n",
    "import pandas as pd\n",
    "import time"
   ]
  },
  {
   "cell_type": "code",
   "execution_count": 27,
   "metadata": {},
   "outputs": [
    {
     "name": "stdout",
     "output_type": "stream",
     "text": [
      "Now Scraping: https://www.reuters.com/search/news?blob=big+tech\n",
      "Now Scraping: https://www.reuters.com/search/news?blob=google\n",
      "Now Scraping: https://www.reuters.com/search/news?blob=amazon\n",
      "Now Scraping: https://www.reuters.com/search/news?blob=stocks\n",
      "Now Scraping: https://www.reuters.com/search/news?blob=covid\n",
      "Now Scraping: https://www.reuters.com/search/news?blob=vaccine\n",
      "Now Scraping: https://www.reuters.com/search/news?blob=pfizer\n",
      "Now Scraping: https://www.reuters.com/search/news?blob=trump\n",
      "Now Scraping: https://www.reuters.com/search/news?blob=biden\n",
      "Now Scraping: https://www.reuters.com/search/news?blob=senate\n",
      "                                             Headline  \\\n",
      "0   Coronavirus pandemic hands Big Tech a chance t...   \n",
      "1   Coronavirus pandemic hands Big Tech a chance t...   \n",
      "2   RPT-Coronavirus pandemic hands Big Tech a chan...   \n",
      "3   BRIEF-EU targets Big Tech with 'hit list' faci...   \n",
      "4   UPDATE 1-Coronavirus pandemic hands Big Tech a...   \n",
      "..                                                ...   \n",
      "95  Senate confirmation hearings to start Oct. 12 ...   \n",
      "96  U.S. senators want to block drone sales to Saudis   \n",
      "97  Republican Senator Tillis clinches reelection ...   \n",
      "98  For Senate Democrats, campaign money couldn't ...   \n",
      "99  Investors focus on undecided Senate as Biden e...   \n",
      "\n",
      "                       Dateandtime               Hyperlink  \n",
      "0       March 17, 2020 09:32pm EDT  /article/idUSKBN21442S  \n",
      "1       March 17, 2020 05:44pm EDT  /article/idUSL1N2BA0WW  \n",
      "2       March 18, 2020 06:00am EDT  /article/idUSL1N2BA2RS  \n",
      "3     October 11, 2020 04:10pm EDT  /article/idUSFWN2H00RQ  \n",
      "4       March 17, 2020 07:41pm EDT  /article/idUSL1N2BA2U4  \n",
      "..                             ...                     ...  \n",
      "95  September 27, 2020 12:07am EDT  /article/idUSKBN26H13E  \n",
      "96     August 06, 2020 05:03pm EDT  /article/idUSKCN2522JK  \n",
      "97   November 10, 2020 08:34pm EST  /article/idUSKBN27Q37P  \n",
      "98   November 07, 2020 09:39am EST  /article/idUSKBN27N0HF  \n",
      "99   November 06, 2020 01:48pm EST  /article/idUSKBN27M2ML  \n",
      "\n",
      "[100 rows x 3 columns]\n"
     ]
    }
   ],
   "source": [
    "search_set = ['big+tech', 'google', 'amazon', 'stocks', 'covid', \n",
    "              'vaccine', 'pfizer', 'trump', 'biden', 'senate']\n",
    "\n",
    "article_title_list = []\n",
    "dateandtime_list = []\n",
    "art_hyperlink_list = []\n",
    "\n",
    "for search in search_set:\n",
    "    URL = 'https://www.reuters.com/search/news?blob=' + search\n",
    "    print('Now Scraping:', URL)\n",
    "    time.sleep(3)\n",
    "    page = requests.get(URL)\n",
    "    soup = BeautifulSoup(page.content, 'html.parser')\n",
    "    tags = soup.find_all('div', class_= 'search-result-content')\n",
    "    for tag in tags:\n",
    "        try:\n",
    "            article_title = tag.find('h3', class_= 'search-result-title').get_text().strip()\n",
    "        except:\n",
    "            article_title = 'NA'\n",
    "        #print(article_title)\n",
    "        article_title_list.append(article_title)\n",
    "        try:\n",
    "            dateandtime = tag.find('h5', class_= 'search-result-timestamp').get_text().strip()\n",
    "        except:\n",
    "            dateandtime = 'NA'\n",
    "        #print(dateandtime)\n",
    "        dateandtime_list.append(dateandtime)\n",
    "        try:\n",
    "            art_hyperlink = tag.find('a').get('href')\n",
    "        except:\n",
    "            art_hyperlink = 'NA'\n",
    "        #print(art_hyperlink)\n",
    "        art_hyperlink_list.append(art_hyperlink)\n",
    "        \n",
    "data_dict = {'Headline':article_title_list, \n",
    "            'Dateandtime':dateandtime_list,\n",
    "            'Hyperlink':art_hyperlink_list}\n",
    "\n",
    "arts = pd.DataFrame(data_dict)\n",
    "\n",
    "print(arts)\n",
    "\n",
    "arts.to_csv('question_1.csv', index = True, header = True)"
   ]
  }
 ],
 "metadata": {
  "kernelspec": {
   "display_name": "Python 3",
   "language": "python",
   "name": "python3"
  },
  "language_info": {
   "codemirror_mode": {
    "name": "ipython",
    "version": 3
   },
   "file_extension": ".py",
   "mimetype": "text/x-python",
   "name": "python",
   "nbconvert_exporter": "python",
   "pygments_lexer": "ipython3",
   "version": "3.7.6"
  }
 },
 "nbformat": 4,
 "nbformat_minor": 4
}
