{
 "cells": [
  {
   "cell_type": "code",
   "execution_count": 35,
   "metadata": {},
   "outputs": [],
   "source": [
    "import requests\n",
    "from bs4 import BeautifulSoup"
   ]
  },
  {
   "cell_type": "code",
   "execution_count": 66,
   "metadata": {},
   "outputs": [],
   "source": [
    "params = {'customername' : 'John', \n",
    "          'address' : '1000 Main Street',\n",
    "         'telephone' : '123456789', \n",
    "         'email' : 'john@binghamton.edu', \n",
    "         'crust' : 'classic white', \n",
    "         'toppings[0]' : 'mozzarella', \n",
    "         'toppings[1]' : 'red sauce', \n",
    "         'pizzas' : '1', \n",
    "         'instructions' : 'Leave the pizza at the front door.'}"
   ]
  },
  {
   "cell_type": "code",
   "execution_count": 84,
   "metadata": {},
   "outputs": [
    {
     "name": "stdout",
     "output_type": "stream",
     "text": [
      "Name: John\n",
      "Address: 1000 Main Street\n",
      "Telephone number: 123456789\n",
      "Email Address: john@binghamton.edu\n",
      "Crust: classic white\n",
      "Toppings: mozzarella, red sauce\n",
      "Number: 1\n",
      "Delivery instructions: Leave the pizza at the front door.\n"
     ]
    }
   ],
   "source": [
    "data_page = requests.post('http://www.blackgoosebistro.com/pizza.php' , data = params)\n",
    "\n",
    "soup = BeautifulSoup(data_page.content, 'html.parser')\n",
    "\n",
    "#print(soup.prettify())\n",
    "\n",
    "tags1 = soup.find('ul')\n",
    "tags2 = soup.select_one('ul').find_next('ul')\n",
    "\n",
    "for t1 in tags1:\n",
    "    name = soup.find_all('li')[0].get_text().strip()\n",
    "    address = soup.find_all('li')[1].get_text().strip()\n",
    "    tele = soup.find_all('li')[2].get_text().strip()\n",
    "    email = soup.find_all('li')[3].get_text().strip()\n",
    "    instructions = soup.find_all('p')[1].get_text().strip()\n",
    "    \n",
    "for t2 in tags2:\n",
    "   \n",
    "    crust = soup.select_one('ul').find_next('ul').find_all('li')[0].get_text().strip()\n",
    "    toppings = soup.select_one('ul').find_next('ul').find_all('li')[1].get_text().strip()\n",
    "    pizzas = soup.select_one('ul').find_next('ul').find_all('li')[2].get_text().strip()\n",
    "    \n",
    "print(name)\n",
    "print(address)\n",
    "print(tele)\n",
    "print(email)\n",
    "print(crust)\n",
    "print(toppings)\n",
    "print(pizzas)\n",
    "print(instructions)"
   ]
  },
  {
   "cell_type": "code",
   "execution_count": null,
   "metadata": {},
   "outputs": [],
   "source": []
  }
 ],
 "metadata": {
  "kernelspec": {
   "display_name": "Python 3",
   "language": "python",
   "name": "python3"
  },
  "language_info": {
   "codemirror_mode": {
    "name": "ipython",
    "version": 3
   },
   "file_extension": ".py",
   "mimetype": "text/x-python",
   "name": "python",
   "nbconvert_exporter": "python",
   "pygments_lexer": "ipython3",
   "version": "3.7.6"
  }
 },
 "nbformat": 4,
 "nbformat_minor": 4
}
