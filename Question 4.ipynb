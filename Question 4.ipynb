{
 "cells": [
  {
   "cell_type": "code",
   "execution_count": 30,
   "metadata": {},
   "outputs": [],
   "source": [
    "import requests\n",
    "from bs4 import BeautifulSoup\n",
    "import pandas as pd\n",
    "import numpy"
   ]
  },
  {
   "cell_type": "code",
   "execution_count": 2,
   "metadata": {},
   "outputs": [],
   "source": [
    "client = requests.Session()"
   ]
  },
  {
   "cell_type": "code",
   "execution_count": 22,
   "metadata": {},
   "outputs": [
    {
     "name": "stdout",
     "output_type": "stream",
     "text": [
      "auhbVDTHsBCQNpSjmIwcWdkEtXeyFLJKlqYOPrzGinxRUgZfvAoM\n",
      "{'username': 'abc', 'password': 'abc', 'csrf_token': 'auhbVDTHsBCQNpSjmIwcWdkEtXeyFLJKlqYOPrzGinxRUgZfvAoM'}\n"
     ]
    }
   ],
   "source": [
    "form_page = client.get('http://quotes.toscrape.com/login')\n",
    "form_page_soup = BeautifulSoup(form_page.content, 'html.parser')\n",
    "\n",
    "print(form_page_soup.prettify())\n",
    "\n",
    "csrf_token_tag = form_page_soup.find('input', attrs = {'name': 'csrf_token'})\n",
    "print(csrf_token_tag['value'])\n",
    "\n",
    "login_information = {'username': 'abc', \n",
    "                     'password': 'abc', \n",
    "                     'csrf_token': csrf_token_tag['value']}\n",
    "\n",
    "print(login_information)\n",
    "\n"
   ]
  },
  {
   "cell_type": "code",
   "execution_count": 23,
   "metadata": {},
   "outputs": [
    {
     "data": {
      "text/plain": [
       "<Response [200]>"
      ]
     },
     "execution_count": 23,
     "metadata": {},
     "output_type": "execute_result"
    }
   ],
   "source": [
    "client.post('http://quotes.toscrape.com/login', data = login_information)"
   ]
  },
  {
   "cell_type": "code",
   "execution_count": 34,
   "metadata": {},
   "outputs": [
    {
     "name": "stdout",
     "output_type": "stream",
     "text": [
      "              Author                                      Goodreadslink\n",
      "0    Albert Einstein  http://goodreads.com/author/show/9810.Albert_E...\n",
      "1       J.K. Rowling  http://goodreads.com/author/show/1077326.J_K_R...\n",
      "2    Albert Einstein  http://goodreads.com/author/show/9810.Albert_E...\n",
      "3        Jane Austen  http://goodreads.com/author/show/1265.Jane_Austen\n",
      "4     Marilyn Monroe  http://goodreads.com/author/show/82952.Marilyn...\n",
      "5    Albert Einstein  http://goodreads.com/author/show/9810.Albert_E...\n",
      "6         André Gide    http://goodreads.com/author/show/7617.Andr_Gide\n",
      "7   Thomas A. Edison  http://goodreads.com/author/show/3091287.Thoma...\n",
      "8  Eleanor Roosevelt  http://goodreads.com/author/show/44566.Eleanor...\n",
      "9       Steve Martin  http://goodreads.com/author/show/7103.Steve_Ma...\n"
     ]
    }
   ],
   "source": [
    "data_page = client.get('https://quotes.toscrape.com/')\n",
    "data_page_soup = BeautifulSoup(data_page.content, 'html.parser')\n",
    "\n",
    "print(data_page_soup.prettify())\n",
    "\n",
    "tags = data_page_soup.find_all('div', class_='quote')\n",
    "\n",
    "author_list = []\n",
    "goodreads_list = []\n",
    "\n",
    "for tag in tags:\n",
    "    author = tag.find('small', class_='author').get_text()\n",
    "    author_list.append(author)\n",
    "    \n",
    "    goodreads = tag.select_one('a').find_next('a').get('href')\n",
    "    goodreads_list.append(goodreads)\n",
    "\n",
    "#print(author_list)\n",
    "#print(goodreads_list)\n",
    "\n",
    "data_dict = {'Author': author_list, \n",
    "            'Goodreadslink': goodreads_list}\n",
    "\n",
    "Auth_Glink = pd.DataFrame(data_dict)\n",
    "\n",
    "print(Auth_Glink)\n",
    "\n",
    "Auth_Glink.to_csv('question_4.csv', index = True, header = True)   "
   ]
  }
 ],
 "metadata": {
  "kernelspec": {
   "display_name": "Python 3",
   "language": "python",
   "name": "python3"
  },
  "language_info": {
   "codemirror_mode": {
    "name": "ipython",
    "version": 3
   },
   "file_extension": ".py",
   "mimetype": "text/x-python",
   "name": "python",
   "nbconvert_exporter": "python",
   "pygments_lexer": "ipython3",
   "version": "3.7.6"
  }
 },
 "nbformat": 4,
 "nbformat_minor": 4
}
